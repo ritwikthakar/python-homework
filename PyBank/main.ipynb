{
 "cells": [
  {
   "cell_type": "code",
   "execution_count": 1,
   "id": "4ab7537a",
   "metadata": {},
   "outputs": [],
   "source": [
    "import csv\n",
    "from pathlib import Path"
   ]
  },
  {
   "cell_type": "code",
   "execution_count": 2,
   "id": "b56d84e1",
   "metadata": {},
   "outputs": [],
   "source": [
    "budget_csv = Path('Resources/budget_data.csv')"
   ]
  },
  {
   "cell_type": "code",
   "execution_count": 3,
   "id": "dd000120",
   "metadata": {},
   "outputs": [],
   "source": [
    "line_num = 0\n",
    "profitloss = []\n",
    "profitloss_dates = []\n",
    "profitloss_change = []\n",
    "profitloss_sum = 0\n",
    "max_pl = 0\n",
    "min_pl = 0\n",
    "sum = 0"
   ]
  },
  {
   "cell_type": "code",
   "execution_count": 4,
   "id": "6d267cc2",
   "metadata": {},
   "outputs": [],
   "source": [
    "with open(budget_csv, 'r') as csvfile:\n",
    "    \n",
    "    # print(type(csvfile))\n",
    "    \n",
    "    csv_reader = csv.reader(csvfile, delimiter = ',')\n",
    "    \n",
    "    # print(type(csv_reader))\n",
    "    \n",
    "    header = next(csv_reader)\n",
    "    # print(f\"{header} <---- HEADER\")\n",
    "    \n",
    "    for row in csv_reader:\n",
    "        # print(row)\n",
    "        line_num += 1\n",
    "        profitloss.append(int(row[1]))\n",
    "        profitloss_sum += int(row[1])\n",
    "        profitloss_dates.append(row[0])"
   ]
  },
  {
   "cell_type": "code",
   "execution_count": 5,
   "id": "50bf1a76",
   "metadata": {},
   "outputs": [],
   "source": [
    "for i in range(1, len(profitloss)):\n",
    "    x = profitloss[i] - profitloss[i - 1]\n",
    "    profitloss_change.append(int(x))\n",
    "    \n",
    "# print(profitloss_change)\n",
    "\n",
    "for i in range(0, len(profitloss_change)):\n",
    "    sum += profitloss_change[i]\n",
    "    average_change_profitloss = round((sum / (len(profitloss_change))), 2)\n",
    "\n",
    "# print(average_change_profitloss)\n",
    "\n",
    "for profloss in profitloss:\n",
    "    \n",
    "    if min_pl == 0:\n",
    "        max_pl == profloss\n",
    "        min_pl == profloss\n",
    "    if profloss > max_pl:\n",
    "        max_pl = profloss\n",
    "    elif profloss < min_pl:\n",
    "        min_pl = profloss"
   ]
  },
  {
   "cell_type": "code",
   "execution_count": 6,
   "id": "b362c5e4",
   "metadata": {},
   "outputs": [],
   "source": [
    "max_pl_index = profitloss.index(max_pl)\n",
    "min_pl_index = profitloss.index(min_pl)\n",
    "\n",
    "max_pl_date = profitloss_dates[max_pl_index]\n",
    "min_pl_date = profitloss_dates[min_pl_index]"
   ]
  },
  {
   "cell_type": "code",
   "execution_count": 7,
   "id": "f8413fdd",
   "metadata": {},
   "outputs": [
    {
     "name": "stdout",
     "output_type": "stream",
     "text": [
      "Financial Analysis\n",
      "----------------------------\n",
      "Total Months: 86 \n",
      "Total: $38382578\n",
      "Average Change: $-2315.12\n",
      "Greatest Increase in Profits: $1170593 on Feb-2012\n",
      "Greatest Decrease in Profits: $-1196225 on Sep-2013\n"
     ]
    }
   ],
   "source": [
    "print(f\"Financial Analysis\")\n",
    "print(f\"----------------------------\")\n",
    "print(f\"Total Months: {line_num} \")\n",
    "print(f\"Total: ${profitloss_sum}\")\n",
    "print(f\"Average Change: ${average_change_profitloss}\")\n",
    "print(f\"Greatest Increase in Profits: ${max_pl} on {max_pl_date}\")\n",
    "print(f\"Greatest Decrease in Profits: ${min_pl} on {min_pl_date}\")"
   ]
  },
  {
   "cell_type": "code",
   "execution_count": 8,
   "id": "0e093de3",
   "metadata": {},
   "outputs": [],
   "source": [
    "output_path = Path('Financial_Analysis.txt')\n",
    "\n",
    "with open(output_path, 'w') as file:\n",
    "    file.write(f\"Financial Analysis\\n\")\n",
    "    file.write(f\"----------------------------\\n\")\n",
    "    file.write(f\"Total Months: {line_num} \\n\")\n",
    "    file.write(f\"Total: ${profitloss_sum}\\n\")\n",
    "    file.write(f\"Average Change: ${average_change_profitloss}\\n\")\n",
    "    file.write(f\"Greatest Increase in Profits: {max_pl_date} (${max_pl}) \\n\")\n",
    "    file.write(f\"Greatest Decrease in Profits: {min_pl_date} (${min_pl}) \\n\")"
   ]
  }
 ],
 "metadata": {
  "kernelspec": {
   "display_name": "Python 3 (ipykernel)",
   "language": "python",
   "name": "python3"
  },
  "language_info": {
   "codemirror_mode": {
    "name": "ipython",
    "version": 3
   },
   "file_extension": ".py",
   "mimetype": "text/x-python",
   "name": "python",
   "nbconvert_exporter": "python",
   "pygments_lexer": "ipython3",
   "version": "3.9.7"
  }
 },
 "nbformat": 4,
 "nbformat_minor": 5
}
